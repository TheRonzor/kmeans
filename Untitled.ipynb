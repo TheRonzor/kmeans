{
 "cells": [
  {
   "cell_type": "code",
   "execution_count": 4,
   "id": "b57478a7-e7ad-4f69-b5b0-eebb13f4769b",
   "metadata": {},
   "outputs": [],
   "source": [
    "import numpy as np\n",
    "import matplotlib.pyplot as plt\n",
    "SIGMOID_A   = 1 # Half max\n",
    "SIGMOID_K   = 2 # Rate\n",
    "SIGMOID_RES = 100 # Number of points on transition curve\n",
    "SIGMOID_MIN = 0.01\n",
    "SIGMOID_MAX = 0.99\n",
    "sigmoid = 1-1/(1+(1/np.linspace(SIGMOID_MIN,SIGMOID_MAX,SIGMOID_RES)**SIGMOID_A-1)**SIGMOID_K)"
   ]
  },
  {
   "cell_type": "code",
   "execution_count": 5,
   "id": "c33fac77-6fed-4337-90d7-f3459cc281ae",
   "metadata": {},
   "outputs": [
    {
     "data": {
      "text/plain": [
       "[<matplotlib.lines.Line2D at 0x115b95210>]"
      ]
     },
     "execution_count": 5,
     "metadata": {},
     "output_type": "execute_result"
    },
    {
     "data": {
      "image/png": "[encoded data removed]",
      "text/plain": [
       "<Figure size 640x480 with 1 Axes>"
      ]
     },
     "metadata": {},
     "output_type": "display_data"
    }
   ],
   "source": [
    "plt.plot(sigmoid)"
   ]
  },
  {
   "cell_type": "code",
   "execution_count": 6,
   "id": "0fea34df-21c8-4f2e-baef-f8b584607b85",
   "metadata": {},
   "outputs": [
    {
     "data": {
      "text/plain": [
       "array([[0.00647778, 0.81115957],\n",
       "       [0.19725996, 0.31295736],\n",
       "       [0.48942975, 0.30816575]])"
      ]
     },
     "execution_count": 6,
     "metadata": {},
     "output_type": "execute_result"
    }
   ],
   "source": [
    "centroids = np.random.random(size=(3, 2))\n",
    "centroids"
   ]
  },
  {
   "cell_type": "code",
   "execution_count": 7,
   "id": "0beba777-e396-4c0d-bdc5-20ba7f3acb45",
   "metadata": {},
   "outputs": [
    {
     "ename": "ValueError",
     "evalue": "operands could not be broadcast together with shapes (3,2) (100,) ",
     "output_type": "error",
     "traceback": [
      "\u001b[0;31m---------------------------------------------------------------------------\u001b[0m",
      "\u001b[0;31mValueError\u001b[0m                                Traceback (most recent call last)",
      "\u001b[0;32m/var/folders/t_/5c6zgm_s1x959vldky3jw8xc0000gn/T/ipykernel_90212/3174679530.py\u001b[0m in \u001b[0;36m<module>\u001b[0;34m\u001b[0m\n\u001b[0;32m----> 1\u001b[0;31m \u001b[0mcentroids\u001b[0m\u001b[0;34m*\u001b[0m\u001b[0msigmoid\u001b[0m\u001b[0;34m\u001b[0m\u001b[0;34m\u001b[0m\u001b[0m\n\u001b[0m",
      "\u001b[0;31mValueError\u001b[0m: operands could not be broadcast together with shapes (3,2) (100,) "
     ]
    }
   ],
   "source": [
    "centroids*sigmoid"
   ]
  },
  {
   "cell_type": "code",
   "execution_count": 10,
   "id": "fe975972-fb17-415c-91b9-60266b53672d",
   "metadata": {},
   "outputs": [
    {
     "ename": "ValueError",
     "evalue": "shapes (3,2) and (100,) not aligned: 2 (dim 1) != 100 (dim 0)",
     "output_type": "error",
     "traceback": [
      "\u001b[0;31m---------------------------------------------------------------------------\u001b[0m",
      "\u001b[0;31mValueError\u001b[0m                                Traceback (most recent call last)",
      "\u001b[0;32m/var/folders/t_/5c6zgm_s1x959vldky3jw8xc0000gn/T/ipykernel_90212/2946173908.py\u001b[0m in \u001b[0;36m<module>\u001b[0;34m\u001b[0m\n\u001b[1;32m      1\u001b[0m \u001b[0;32mimport\u001b[0m \u001b[0mmath\u001b[0m\u001b[0;34m\u001b[0m\u001b[0;34m\u001b[0m\u001b[0m\n\u001b[0;32m----> 2\u001b[0;31m \u001b[0mnp\u001b[0m\u001b[0;34m.\u001b[0m\u001b[0mdot\u001b[0m\u001b[0;34m(\u001b[0m\u001b[0mcentroids\u001b[0m\u001b[0;34m,\u001b[0m \u001b[0msigmoid\u001b[0m\u001b[0;34m)\u001b[0m\u001b[0;34m\u001b[0m\u001b[0;34m\u001b[0m\u001b[0m\n\u001b[0m",
      "\u001b[0;32m<__array_function__ internals>\u001b[0m in \u001b[0;36mdot\u001b[0;34m(*args, **kwargs)\u001b[0m\n",
      "\u001b[0;31mValueError\u001b[0m: shapes (3,2) and (100,) not aligned: 2 (dim 1) != 100 (dim 0)"
     ]
    }
   ],
   "source": [
    "import math\n",
    "np.dot(centroids, sigmoid)"
   ]
  },
  {
   "cell_type": "code",
   "execution_count": 11,
   "id": "318ba633-1ef2-4b50-ba88-3327fd989f83",
   "metadata": {},
   "outputs": [
    {
     "data": {
      "text/plain": [
       "array([[0.00647778, 0.81115957],\n",
       "       [0.19725996, 0.31295736],\n",
       "       [0.48942975, 0.30816575]])"
      ]
     },
     "execution_count": 11,
     "metadata": {},
     "output_type": "execute_result"
    }
   ],
   "source": [
    "centroids"
   ]
  },
  {
   "cell_type": "code",
   "execution_count": 12,
   "id": "c8cbc450-fe4d-4801-b3f6-1a38a21225bb",
   "metadata": {},
   "outputs": [
    {
     "data": {
      "text/plain": [
       "array([0.00647778, 0.81115957])"
      ]
     },
     "execution_count": 12,
     "metadata": {},
     "output_type": "execute_result"
    }
   ],
   "source": [
    "centroids[0,:]"
   ]
  },
  {
   "cell_type": "code",
   "execution_count": 13,
   "id": "a3b4da87-b140-428f-a144-eabc2a8febf9",
   "metadata": {},
   "outputs": [
    {
     "ename": "ValueError",
     "evalue": "operands could not be broadcast together with shapes (2,) (100,) ",
     "output_type": "error",
     "traceback": [
      "\u001b[0;31m---------------------------------------------------------------------------\u001b[0m",
      "\u001b[0;31mValueError\u001b[0m                                Traceback (most recent call last)",
      "\u001b[0;32m/var/folders/t_/5c6zgm_s1x959vldky3jw8xc0000gn/T/ipykernel_90212/1854291314.py\u001b[0m in \u001b[0;36m<module>\u001b[0;34m\u001b[0m\n\u001b[0;32m----> 1\u001b[0;31m \u001b[0mcentroids\u001b[0m\u001b[0;34m[\u001b[0m\u001b[0;36m0\u001b[0m\u001b[0;34m,\u001b[0m\u001b[0;34m:\u001b[0m\u001b[0;34m]\u001b[0m\u001b[0;34m*\u001b[0m\u001b[0msigmoid\u001b[0m\u001b[0;34m\u001b[0m\u001b[0;34m\u001b[0m\u001b[0m\n\u001b[0m",
      "\u001b[0;31mValueError\u001b[0m: operands could not be broadcast together with shapes (2,) (100,) "
     ]
    }
   ],
   "source": [
    "centroids[0,:]*sigmoid"
   ]
  },
  {
   "cell_type": "code",
   "execution_count": 19,
   "id": "45dca394-2df4-41b3-a01a-045240308d2a",
   "metadata": {},
   "outputs": [],
   "source": [
    "path = np.array([si*centroids for si in sigmoid])"
   ]
  },
  {
   "cell_type": "code",
   "execution_count": 25,
   "id": "7d5d5f33-a234-4bbb-8b55-2bcdd9703847",
   "metadata": {},
   "outputs": [
    {
     "data": {
      "text/plain": [
       "array([[0.00317477, 0.39755091],\n",
       "       [0.0966775 , 0.15338102],\n",
       "       [0.23987049, 0.15103264]])"
      ]
     },
     "execution_count": 25,
     "metadata": {},
     "output_type": "execute_result"
    }
   ],
   "source": []
  },
  {
   "cell_type": "code",
   "execution_count": null,
   "id": "b3ef245b-befe-46d0-b191-15282c8fa5da",
   "metadata": {},
   "outputs": [],
   "source": []
  }
 ],
 "metadata": {
  "kernelspec": {
   "display_name": "Python 3 (ipykernel)",
   "language": "python",
   "name": "python3"
  },
  "language_info": {
   "codemirror_mode": {
    "name": "ipython",
    "version": 3
   },
   "file_extension": ".py",
   "mimetype": "text/x-python",
   "name": "python",
   "nbconvert_exporter": "python",
   "pygments_lexer": "ipython3",
   "version": "3.7.16"
  }
 },
 "nbformat": 4,
 "nbformat_minor": 5
}
